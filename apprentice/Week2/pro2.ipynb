{
 "cells": [
  {
   "cell_type": "code",
   "execution_count": 5,
   "id": "9c41b588-ff64-4ada-b1f8-15d23068170b",
   "metadata": {
    "tags": []
   },
   "outputs": [],
   "source": [
    "import pandas as pd\n",
    "\n",
    "list1 = list([['C1', '인공지능개론', 'R1', '3'],\n",
    "              ['C2', '웃음치료', 'R2', '2'],\n",
    "              ['C3', '경영학', 'R3', '3'],\n",
    "              ['C4', '3D디자인', 'R4', '4'],\n",
    "              ['C5', '스포츠경영', 'R2', '2'],\n",
    "              ['C6', '예술의세계', 'R3', '1']])\n",
    "col_names = ['과목번호', '과목명', '강의실', '시간수']\n",
    "df = pd.DataFrame(list1, columns=col_names)\n",
    "\n",
    "df.to_csv('timetable.csv', index=False)"
   ]
  },
  {
   "cell_type": "code",
   "execution_count": 8,
   "id": "1497c94f-669f-4e74-ac6b-c783aaab051f",
   "metadata": {
    "tags": []
   },
   "outputs": [],
   "source": [
    "df2 = pd.read_csv('timetable.csv', sep=\",\")"
   ]
  },
  {
   "cell_type": "code",
   "execution_count": 10,
   "id": "43d2b42d-4391-47b1-bdd9-4442c79eeed5",
   "metadata": {
    "tags": []
   },
   "outputs": [
    {
     "name": "stdout",
     "output_type": "stream",
     "text": [
      "  과목번호     과목명 강의실  시간수  교수\n",
      "0   C1  인공지능개론  R1    3   0\n",
      "1   C2    웃음치료  R2    2   0\n",
      "2   C3     경영학  R3    3   0\n",
      "3   C4   3D디자인  R4    4   0\n",
      "4   C5   스포츠경영  R2    2   0\n",
      "5   C6   예술의세계  R3    1   0\n"
     ]
    }
   ],
   "source": [
    "df2[\"교수\"] = []\n",
    "print(df2)"
   ]
  },
  {
   "cell_type": "code",
   "execution_count": null,
   "id": "818f10f3-aa5b-4f0d-843f-4b391a46c802",
   "metadata": {},
   "outputs": [],
   "source": []
  }
 ],
 "metadata": {
  "kernelspec": {
   "display_name": "Python 3 (ipykernel)",
   "language": "python",
   "name": "python3"
  },
  "language_info": {
   "codemirror_mode": {
    "name": "ipython",
    "version": 3
   },
   "file_extension": ".py",
   "mimetype": "text/x-python",
   "name": "python",
   "nbconvert_exporter": "python",
   "pygments_lexer": "ipython3",
   "version": "3.11.4"
  }
 },
 "nbformat": 4,
 "nbformat_minor": 5
}
